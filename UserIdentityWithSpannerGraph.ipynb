{
 "cells": [
  {
   "cell_type": "markdown",
   "id": "c6306fb9-7168-4a02-a86c-934a6700a818",
   "metadata": {},
   "source": [
    "# Let's Get Started with Spanner Graph for Identity Management"
   ]
  },
  {
   "cell_type": "markdown",
   "id": "ff6a22c0-221f-401c-a4b8-1c03f2849ac1",
   "metadata": {},
   "source": [
    "## Install all of the necessary Python Libraries"
   ]
  },
  {
   "cell_type": "code",
   "execution_count": null,
   "id": "0260808f-c78b-453c-b7a9-399422da4555",
   "metadata": {
    "scrolled": true
   },
   "outputs": [],
   "source": [
    "!pip install -r requirements.txt"
   ]
  },
  {
   "cell_type": "markdown",
   "id": "00b79b58-2e4a-4bac-b309-c725fe57bde4",
   "metadata": {},
   "source": [
    "## Login with gcloud"
   ]
  },
  {
   "cell_type": "code",
   "execution_count": null,
   "id": "9ce04e89-bffa-4363-a09b-dc114e4783a1",
   "metadata": {},
   "outputs": [],
   "source": [
    "!gcloud auth application-default login"
   ]
  },
  {
   "cell_type": "markdown",
   "id": "0b7723cf-95a2-46ac-971f-1ac4becd41a6",
   "metadata": {},
   "source": [
    "## Create and Load the Database"
   ]
  },
  {
   "cell_type": "code",
   "execution_count": null,
   "id": "4ad31a21-17d2-465e-9c83-be43a7c13aca",
   "metadata": {},
   "outputs": [],
   "source": [
    "!gcloud spanner databases create useridentitydb --instance  useridentity --ddl-file=UserIdentityDB.sql\n",
    "!gcloud spanner instances create useridentity --description=\"UserIdentity Database\" --config=regional-us-west1 --edition=ENTERPRISE --pro        cessing-units=100 --default-backup-schedule-type=NONE"
   ]
  },
  {
   "cell_type": "markdown",
   "id": "0deaef35-a683-450a-ab7c-63b7ff1e8d7a",
   "metadata": {},
   "source": [
    "## Load the data"
   ]
  },
  {
   "cell_type": "code",
   "execution_count": null,
   "id": "89c0aa12-c4dd-45d8-b338-c84cf027c88b",
   "metadata": {},
   "outputs": [],
   "source": [
    "from load_data import LoadData\n",
    "LoadData()"
   ]
  }
 ],
 "metadata": {
  "kernelspec": {
   "display_name": "Python 3 (ipykernel)",
   "language": "python",
   "name": "python3"
  },
  "language_info": {
   "codemirror_mode": {
    "name": "ipython",
    "version": 3
   },
   "file_extension": ".py",
   "mimetype": "text/x-python",
   "name": "python",
   "nbconvert_exporter": "python",
   "pygments_lexer": "ipython3",
   "version": "3.12.3"
  }
 },
 "nbformat": 4,
 "nbformat_minor": 5
}
