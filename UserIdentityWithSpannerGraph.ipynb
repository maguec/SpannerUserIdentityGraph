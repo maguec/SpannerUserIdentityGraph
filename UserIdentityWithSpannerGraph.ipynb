{
 "cells": [
  {
   "cell_type": "markdown",
   "id": "c6306fb9-7168-4a02-a86c-934a6700a818",
   "metadata": {},
   "source": [
    "# Let's Get Started with Spanner Graph for Identity Management"
   ]
  },
  {
   "cell_type": "markdown",
   "id": "ff6a22c0-221f-401c-a4b8-1c03f2849ac1",
   "metadata": {},
   "source": [
    "## Install all of the necessary Python Libraries"
   ]
  },
  {
   "cell_type": "code",
   "execution_count": null,
   "id": "0260808f-c78b-453c-b7a9-399422da4555",
   "metadata": {
    "scrolled": true
   },
   "outputs": [],
   "source": [
    "!pip install -r requirements.txt"
   ]
  },
  {
   "cell_type": "markdown",
   "id": "00b79b58-2e4a-4bac-b309-c725fe57bde4",
   "metadata": {},
   "source": [
    "## Login with gcloud"
   ]
  },
  {
   "cell_type": "code",
   "execution_count": null,
   "id": "3d841a41-b77e-4f63-bf50-2807eb712460",
   "metadata": {},
   "outputs": [],
   "source": [
    "!gcloud auth application-default login\n",
    "\n",
    "project_id = !(gcloud config get-value project)\n",
    "if len(project_id) != 1:\n",
    "  raise RuntimeError(f\"project_id is not set: {project_id}\")\n",
    "project_id = project_id[0]"
   ]
  },
  {
   "cell_type": "markdown",
   "id": "0b7723cf-95a2-46ac-971f-1ac4becd41a6",
   "metadata": {},
   "source": [
    "## Create and Load the Database"
   ]
  },
  {
   "cell_type": "code",
   "execution_count": null,
   "id": "4ad31a21-17d2-465e-9c83-be43a7c13aca",
   "metadata": {},
   "outputs": [],
   "source": [
    "!gcloud spanner instances create useridentity --description=\"UserIdentity Database\" --config=regional-us-west1 --edition=ENTERPRISE --processing-units=100 --default-backup-schedule-type=NONE\n",
    "!gcloud spanner databases create useridentitydb --instance  useridentity --ddl-file=UserIdentityDB.sql"
   ]
  },
  {
   "cell_type": "markdown",
   "id": "0deaef35-a683-450a-ab7c-63b7ff1e8d7a",
   "metadata": {},
   "source": [
    "## Load the data"
   ]
  },
  {
   "cell_type": "code",
   "execution_count": null,
   "id": "89c0aa12-c4dd-45d8-b338-c84cf027c88b",
   "metadata": {},
   "outputs": [],
   "source": [
    "from load_data import LoadData\n",
    "LoadData()"
   ]
  },
  {
   "cell_type": "markdown",
   "id": "920d0845-1d47-427b-a122-300b9ed3b58d",
   "metadata": {},
   "source": [
    "## Load the Spanner Graph Library"
   ]
  },
  {
   "cell_type": "markdown",
   "id": "38326813-9cc2-476b-9dc8-25f6f3960549",
   "metadata": {
    "jp-MarkdownHeadingCollapsed": true
   },
   "source": [
    "%load_ext spanner_graphs"
   ]
  },
  {
   "cell_type": "markdown",
   "id": "22b99e73-1b81-4582-96e7-68f112055e61",
   "metadata": {},
   "source": [
    "## Run Some Queries"
   ]
  },
  {
   "cell_type": "code",
   "execution_count": null,
   "id": "5c1c6c3c-6510-45bc-b085-194849bf458c",
   "metadata": {},
   "outputs": [],
   "source": [
    "### Find distinct emails per month\n",
    "\n",
    "%%spanner_graph --project {project_id} --instance useridentity --database useridentitydb\n",
    "\n",
    "GRAPH UserIdentity\n",
    "MATCH (o:SalesOrder)-[h:HAS_EMAIL]->(e:Email)\n",
    "RETURN  EXTRACT(YEAR FROM h.ts) AS Year, EXTRACT(MONTH FROM h.ts) AS Month,\n",
    "COUNT(DISTINCT e.email) as Email ORDER BY Month"
   ]
  },
  {
   "cell_type": "code",
   "execution_count": null,
   "id": "88f1ab3f-a25b-498b-94d3-5d4bbcf5b706",
   "metadata": {},
   "outputs": [],
   "source": [
    "### Draw all of the relationship of a specific email address in a graphical format\n",
    "\n",
    "%%spanner_graph --project {project_id} --instance useridentity --database useridentitydb\n",
    "\n",
    "GRAPH UserIdentity\n",
    "MATCH p=(e:Email{email: \"jamesparks@example.com\" })-[h]->{1,3}(j)\n",
    "WHERE h[0].ts > \"2025-04-01\"\n",
    "RETURN SAFE_TO_JSON(p) AS JSON"
   ]
  },
  {
   "cell_type": "code",
   "execution_count": null,
   "id": "652d7b10-1816-4401-99e8-9fa13746e69d",
   "metadata": {},
   "outputs": [],
   "source": [
    "### Find Innocent looking emails that are linked through devices to suspicious emails\n",
    "\n",
    "%%spanner_graph --project {project_id} --instance useridentity --database useridentitydb\n",
    "\n",
    "GRAPH UserIdentity\n",
    "MATCH (e:Email{sus: 0})-[h:HAS_DEVICE]->(d:Device)<-[h2:HAS_DEVICE]-(e2:Email{sus:1})\n",
    "WHERE e.id != e2.id\n",
    "RETURN e.email AS PossiblyBad, e2.email AS KnownBad"
   ]
  },
  {
   "cell_type": "code",
   "execution_count": null,
   "id": "97f041d0-7805-4b5f-94fd-47b6727e56c5",
   "metadata": {},
   "outputs": [],
   "source": [
    "### Which CCs are linked to the most suspicious transactions\n",
    "\n",
    "%%spanner_graph --project {project_id} --instance useridentity --database useridentitydb\n",
    "\n",
    "GRAPH UserIdentity\n",
    "MATCH (e:Email{sus: 0})-[h:HAS_DEVICE]->(d:Device)<-[h2:HAS_DEVICE]-(e2:Email{sus:1})\n",
    "WHERE e.id != e2.id\n",
    "RETURN e.email AS PossiblyBad, e2.email AS KnownBad"
   ]
  },
  {
   "cell_type": "code",
   "execution_count": null,
   "id": "07bd902b-2132-4c7c-ab93-abf0455d6951",
   "metadata": {},
   "outputs": [],
   "source": [
    "### When was the last time that we saw a transaction of this shape\n",
    "\n",
    "%%spanner_graph --project {project_id} --instance useridentity --database useridentitydb\n",
    "\n",
    "GRAPH UserIdentity\n",
    " MATCH (\n",
    "  cc:CC{last4: \"8963\", zip: \"36206\"})<-[EMAIL_HAS_CC]-(\n",
    "    e:Email{email:\"kevin04@example.com\"})<-[HAS_EMAIL]-(\n",
    "      o:SalesOrder)-[hs:HAS_ADDRESS]->(sa:ShippingAddress)\n",
    " WHERE sa.id IN (\n",
    "    SELECT id FROM ShippingAddress WHERE\n",
    "    SEARCH_NGRAMS(address_Tokens, 'Hill AND Lodge AND 3608'))\n",
    " RETURN hs.ts AS TS, o.sus AS IS_SUSPECT"
   ]
  },
  {
   "cell_type": "code",
   "execution_count": null,
   "id": "99cb271e-c92c-4345-9786-8bbe94d4691b",
   "metadata": {},
   "outputs": [],
   "source": [
    "### Find all Suspect Orders with and email and last4\n",
    "\n",
    "%%spanner_graph --project {project_id} --instance useridentity --database useridentitydb\n",
    "\n",
    "GRAPH UserIdentity\n",
    " MATCH (\n",
    "  cc:CC{last4: \"2218\"})<-[EMAIL_HAS_CC]-(\n",
    "    e:Email{email: \"jeremy76@example.com\"})<-[h:HAS_EMAIL]-(o:SalesOrder{sus: 1})\n",
    "    WHERE h.ts > \"2025-02-01\"\n",
    " RETURN e.email AS EMAIL, cc.last4 AS LAST4, h.ts AS TS, o.id AS TRANSACT, o.sus AS IS_SUSPECT"
   ]
  }
 ],
 "metadata": {
  "kernelspec": {
   "display_name": "Python 3 (ipykernel)",
   "language": "python",
   "name": "python3"
  },
  "language_info": {
   "codemirror_mode": {
    "name": "ipython",
    "version": 3
   },
   "file_extension": ".py",
   "mimetype": "text/x-python",
   "name": "python",
   "nbconvert_exporter": "python",
   "pygments_lexer": "ipython3",
   "version": "3.13.1"
  }
 },
 "nbformat": 4,
 "nbformat_minor": 5
}
